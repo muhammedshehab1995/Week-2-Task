{
 "cells": [
  {
   "cell_type": "markdown",
   "metadata": {},
   "source": [
    "# Importing Libraries"
   ]
  },
  {
   "cell_type": "code",
   "execution_count": 51,
   "metadata": {},
   "outputs": [],
   "source": [
    "import pandas as pd\n",
    "import numpy as np\n",
    "import matplotlib.pyplot as plt\n",
    "import matplotlib as mpl\n",
    "import seaborn as sns\n",
    "%matplotlib inline"
   ]
  },
  {
   "cell_type": "markdown",
   "metadata": {},
   "source": [
    "# Loading the datasets"
   ]
  },
  {
   "cell_type": "code",
   "execution_count": 52,
   "metadata": {},
   "outputs": [],
   "source": [
    "dataset_1 = pd.read_csv(\"D:\\Data Glacier\\\\Cab_Data.csv\")\n",
    "dataset_2 = pd.read_csv(\"D:\\Data Glacier\\\\City.csv\")\n",
    "dataset_3 = pd.read_csv(\"D:\\Data Glacier\\\\Customer_ID.csv\")\n",
    "dataset_4 = pd.read_csv(\"D:\\Data Glacier\\\\Transaction_ID.csv\")"
   ]
  },
  {
   "cell_type": "markdown",
   "metadata": {},
   "source": [
    "# Exploring Data "
   ]
  },
  {
   "cell_type": "code",
   "execution_count": 53,
   "metadata": {},
   "outputs": [
    {
     "data": {
      "text/plain": [
       "(359392, 7)"
      ]
     },
     "execution_count": 53,
     "metadata": {},
     "output_type": "execute_result"
    }
   ],
   "source": [
    "dataset_1.shape"
   ]
  },
  {
   "cell_type": "code",
   "execution_count": 54,
   "metadata": {},
   "outputs": [
    {
     "data": {
      "text/plain": [
       "(20, 3)"
      ]
     },
     "execution_count": 54,
     "metadata": {},
     "output_type": "execute_result"
    }
   ],
   "source": [
    "dataset_2.shape"
   ]
  },
  {
   "cell_type": "code",
   "execution_count": 55,
   "metadata": {},
   "outputs": [
    {
     "data": {
      "text/plain": [
       "(49171, 4)"
      ]
     },
     "execution_count": 55,
     "metadata": {},
     "output_type": "execute_result"
    }
   ],
   "source": [
    "dataset_3.shape"
   ]
  },
  {
   "cell_type": "code",
   "execution_count": 56,
   "metadata": {},
   "outputs": [
    {
     "data": {
      "text/plain": [
       "(440098, 3)"
      ]
     },
     "execution_count": 56,
     "metadata": {},
     "output_type": "execute_result"
    }
   ],
   "source": [
    "dataset_4.shape"
   ]
  },
  {
   "cell_type": "code",
   "execution_count": 57,
   "metadata": {},
   "outputs": [
    {
     "name": "stdout",
     "output_type": "stream",
     "text": [
      "<class 'pandas.core.frame.DataFrame'>\n",
      "RangeIndex: 359392 entries, 0 to 359391\n",
      "Data columns (total 7 columns):\n",
      " #   Column          Non-Null Count   Dtype  \n",
      "---  ------          --------------   -----  \n",
      " 0   Transaction ID  359392 non-null  int64  \n",
      " 1   Date of Travel  359392 non-null  object \n",
      " 2   Company         359392 non-null  object \n",
      " 3   City            359392 non-null  object \n",
      " 4   KM Travelled    359392 non-null  float64\n",
      " 5   Price Charged   359392 non-null  float64\n",
      " 6   Cost of Trip    359392 non-null  float64\n",
      "dtypes: float64(3), int64(1), object(3)\n",
      "memory usage: 19.2+ MB\n"
     ]
    }
   ],
   "source": [
    "dataset_1.info()"
   ]
  },
  {
   "cell_type": "code",
   "execution_count": 58,
   "metadata": {},
   "outputs": [
    {
     "name": "stdout",
     "output_type": "stream",
     "text": [
      "<class 'pandas.core.frame.DataFrame'>\n",
      "RangeIndex: 20 entries, 0 to 19\n",
      "Data columns (total 3 columns):\n",
      " #   Column      Non-Null Count  Dtype \n",
      "---  ------      --------------  ----- \n",
      " 0   City        20 non-null     object\n",
      " 1   Population  20 non-null     object\n",
      " 2   Users       20 non-null     object\n",
      "dtypes: object(3)\n",
      "memory usage: 608.0+ bytes\n"
     ]
    }
   ],
   "source": [
    "dataset_2.info()"
   ]
  },
  {
   "cell_type": "code",
   "execution_count": 59,
   "metadata": {},
   "outputs": [
    {
     "name": "stdout",
     "output_type": "stream",
     "text": [
      "<class 'pandas.core.frame.DataFrame'>\n",
      "RangeIndex: 49171 entries, 0 to 49170\n",
      "Data columns (total 4 columns):\n",
      " #   Column              Non-Null Count  Dtype \n",
      "---  ------              --------------  ----- \n",
      " 0   Customer ID         49171 non-null  int64 \n",
      " 1   Gender              49171 non-null  object\n",
      " 2   Age                 49171 non-null  int64 \n",
      " 3   Income (USD/Month)  49171 non-null  int64 \n",
      "dtypes: int64(3), object(1)\n",
      "memory usage: 1.5+ MB\n"
     ]
    }
   ],
   "source": [
    "dataset_3.info()"
   ]
  },
  {
   "cell_type": "code",
   "execution_count": 60,
   "metadata": {},
   "outputs": [
    {
     "name": "stdout",
     "output_type": "stream",
     "text": [
      "<class 'pandas.core.frame.DataFrame'>\n",
      "RangeIndex: 440098 entries, 0 to 440097\n",
      "Data columns (total 3 columns):\n",
      " #   Column          Non-Null Count   Dtype \n",
      "---  ------          --------------   ----- \n",
      " 0   Transaction ID  440098 non-null  int64 \n",
      " 1   Customer ID     440098 non-null  int64 \n",
      " 2   Payment_Mode    440098 non-null  object\n",
      "dtypes: int64(2), object(1)\n",
      "memory usage: 10.1+ MB\n"
     ]
    }
   ],
   "source": [
    "dataset_4.info()"
   ]
  },
  {
   "cell_type": "code",
   "execution_count": 61,
   "metadata": {},
   "outputs": [
    {
     "name": "stdout",
     "output_type": "stream",
     "text": [
      "Transaction ID      int64\n",
      "Date of Travel     object\n",
      "Company            object\n",
      "City               object\n",
      "KM Travelled      float64\n",
      "Price Charged     float64\n",
      "Cost of Trip      float64\n",
      "dtype: object\n"
     ]
    }
   ],
   "source": [
    "print(dataset_1.dtypes)"
   ]
  },
  {
   "cell_type": "code",
   "execution_count": 62,
   "metadata": {},
   "outputs": [
    {
     "name": "stdout",
     "output_type": "stream",
     "text": [
      "City          object\n",
      "Population    object\n",
      "Users         object\n",
      "dtype: object\n"
     ]
    }
   ],
   "source": [
    "print(dataset_2.dtypes)"
   ]
  },
  {
   "cell_type": "code",
   "execution_count": 63,
   "metadata": {},
   "outputs": [
    {
     "name": "stdout",
     "output_type": "stream",
     "text": [
      "Customer ID            int64\n",
      "Gender                object\n",
      "Age                    int64\n",
      "Income (USD/Month)     int64\n",
      "dtype: object\n"
     ]
    }
   ],
   "source": [
    "print(dataset_3.dtypes)"
   ]
  },
  {
   "cell_type": "code",
   "execution_count": 64,
   "metadata": {
    "scrolled": true
   },
   "outputs": [
    {
     "name": "stdout",
     "output_type": "stream",
     "text": [
      "Transaction ID     int64\n",
      "Customer ID        int64\n",
      "Payment_Mode      object\n",
      "dtype: object\n"
     ]
    }
   ],
   "source": [
    "print(dataset_4.dtypes)"
   ]
  },
  {
   "cell_type": "markdown",
   "metadata": {},
   "source": [
    "# Checking Nulls"
   ]
  },
  {
   "cell_type": "code",
   "execution_count": 65,
   "metadata": {},
   "outputs": [
    {
     "data": {
      "text/plain": [
       "Transaction ID    0\n",
       "Date of Travel    0\n",
       "Company           0\n",
       "City              0\n",
       "KM Travelled      0\n",
       "Price Charged     0\n",
       "Cost of Trip      0\n",
       "dtype: int64"
      ]
     },
     "execution_count": 65,
     "metadata": {},
     "output_type": "execute_result"
    }
   ],
   "source": [
    "dataset_1.isnull().sum()"
   ]
  },
  {
   "cell_type": "code",
   "execution_count": 66,
   "metadata": {},
   "outputs": [
    {
     "data": {
      "text/plain": [
       "City          0\n",
       "Population    0\n",
       "Users         0\n",
       "dtype: int64"
      ]
     },
     "execution_count": 66,
     "metadata": {},
     "output_type": "execute_result"
    }
   ],
   "source": [
    "dataset_2.isnull().sum()"
   ]
  },
  {
   "cell_type": "code",
   "execution_count": 67,
   "metadata": {},
   "outputs": [
    {
     "data": {
      "text/plain": [
       "Customer ID           0\n",
       "Gender                0\n",
       "Age                   0\n",
       "Income (USD/Month)    0\n",
       "dtype: int64"
      ]
     },
     "execution_count": 67,
     "metadata": {},
     "output_type": "execute_result"
    }
   ],
   "source": [
    "dataset_3.isnull().sum()"
   ]
  },
  {
   "cell_type": "code",
   "execution_count": 68,
   "metadata": {},
   "outputs": [
    {
     "data": {
      "text/plain": [
       "Transaction ID    0\n",
       "Customer ID       0\n",
       "Payment_Mode      0\n",
       "dtype: int64"
      ]
     },
     "execution_count": 68,
     "metadata": {},
     "output_type": "execute_result"
    }
   ],
   "source": [
    "dataset_4.isnull().sum()"
   ]
  },
  {
   "cell_type": "markdown",
   "metadata": {},
   "source": [
    "# Merging Datasets"
   ]
  },
  {
   "cell_type": "code",
   "execution_count": 69,
   "metadata": {},
   "outputs": [],
   "source": [
    " prototype_1 = dataset_1.merge(dataset_4, how='left', on='Transaction ID', sort=True)"
   ]
  },
  {
   "cell_type": "code",
   "execution_count": 70,
   "metadata": {},
   "outputs": [
    {
     "data": {
      "text/html": [
       "<div>\n",
       "<style scoped>\n",
       "    .dataframe tbody tr th:only-of-type {\n",
       "        vertical-align: middle;\n",
       "    }\n",
       "\n",
       "    .dataframe tbody tr th {\n",
       "        vertical-align: top;\n",
       "    }\n",
       "\n",
       "    .dataframe thead th {\n",
       "        text-align: right;\n",
       "    }\n",
       "</style>\n",
       "<table border=\"1\" class=\"dataframe\">\n",
       "  <thead>\n",
       "    <tr style=\"text-align: right;\">\n",
       "      <th></th>\n",
       "      <th>Transaction ID</th>\n",
       "      <th>Date of Travel</th>\n",
       "      <th>Company</th>\n",
       "      <th>City</th>\n",
       "      <th>KM Travelled</th>\n",
       "      <th>Price Charged</th>\n",
       "      <th>Cost of Trip</th>\n",
       "      <th>Customer ID</th>\n",
       "      <th>Payment_Mode</th>\n",
       "    </tr>\n",
       "  </thead>\n",
       "  <tbody>\n",
       "    <tr>\n",
       "      <th>0</th>\n",
       "      <td>10000011</td>\n",
       "      <td>01/08/16</td>\n",
       "      <td>Pink Cab</td>\n",
       "      <td>ATLANTA GA</td>\n",
       "      <td>30.45</td>\n",
       "      <td>370.95</td>\n",
       "      <td>313.6350</td>\n",
       "      <td>29290</td>\n",
       "      <td>Card</td>\n",
       "    </tr>\n",
       "    <tr>\n",
       "      <th>1</th>\n",
       "      <td>10000012</td>\n",
       "      <td>01/06/16</td>\n",
       "      <td>Pink Cab</td>\n",
       "      <td>ATLANTA GA</td>\n",
       "      <td>28.62</td>\n",
       "      <td>358.52</td>\n",
       "      <td>334.8540</td>\n",
       "      <td>27703</td>\n",
       "      <td>Card</td>\n",
       "    </tr>\n",
       "    <tr>\n",
       "      <th>2</th>\n",
       "      <td>10000013</td>\n",
       "      <td>01/02/16</td>\n",
       "      <td>Pink Cab</td>\n",
       "      <td>ATLANTA GA</td>\n",
       "      <td>9.04</td>\n",
       "      <td>125.20</td>\n",
       "      <td>97.6320</td>\n",
       "      <td>28712</td>\n",
       "      <td>Cash</td>\n",
       "    </tr>\n",
       "    <tr>\n",
       "      <th>3</th>\n",
       "      <td>10000014</td>\n",
       "      <td>01/07/16</td>\n",
       "      <td>Pink Cab</td>\n",
       "      <td>ATLANTA GA</td>\n",
       "      <td>33.17</td>\n",
       "      <td>377.40</td>\n",
       "      <td>351.6020</td>\n",
       "      <td>28020</td>\n",
       "      <td>Cash</td>\n",
       "    </tr>\n",
       "    <tr>\n",
       "      <th>4</th>\n",
       "      <td>10000015</td>\n",
       "      <td>01/03/16</td>\n",
       "      <td>Pink Cab</td>\n",
       "      <td>ATLANTA GA</td>\n",
       "      <td>8.73</td>\n",
       "      <td>114.62</td>\n",
       "      <td>97.7760</td>\n",
       "      <td>27182</td>\n",
       "      <td>Card</td>\n",
       "    </tr>\n",
       "    <tr>\n",
       "      <th>...</th>\n",
       "      <td>...</td>\n",
       "      <td>...</td>\n",
       "      <td>...</td>\n",
       "      <td>...</td>\n",
       "      <td>...</td>\n",
       "      <td>...</td>\n",
       "      <td>...</td>\n",
       "      <td>...</td>\n",
       "      <td>...</td>\n",
       "    </tr>\n",
       "    <tr>\n",
       "      <th>359387</th>\n",
       "      <td>10440101</td>\n",
       "      <td>01/08/18</td>\n",
       "      <td>Yellow Cab</td>\n",
       "      <td>WASHINGTON DC</td>\n",
       "      <td>4.80</td>\n",
       "      <td>69.24</td>\n",
       "      <td>63.3600</td>\n",
       "      <td>52392</td>\n",
       "      <td>Cash</td>\n",
       "    </tr>\n",
       "    <tr>\n",
       "      <th>359388</th>\n",
       "      <td>10440104</td>\n",
       "      <td>01/04/18</td>\n",
       "      <td>Yellow Cab</td>\n",
       "      <td>WASHINGTON DC</td>\n",
       "      <td>8.40</td>\n",
       "      <td>113.75</td>\n",
       "      <td>106.8480</td>\n",
       "      <td>53286</td>\n",
       "      <td>Cash</td>\n",
       "    </tr>\n",
       "    <tr>\n",
       "      <th>359389</th>\n",
       "      <td>10440105</td>\n",
       "      <td>01/05/18</td>\n",
       "      <td>Yellow Cab</td>\n",
       "      <td>WASHINGTON DC</td>\n",
       "      <td>27.75</td>\n",
       "      <td>437.07</td>\n",
       "      <td>349.6500</td>\n",
       "      <td>52265</td>\n",
       "      <td>Cash</td>\n",
       "    </tr>\n",
       "    <tr>\n",
       "      <th>359390</th>\n",
       "      <td>10440106</td>\n",
       "      <td>01/05/18</td>\n",
       "      <td>Yellow Cab</td>\n",
       "      <td>WASHINGTON DC</td>\n",
       "      <td>8.80</td>\n",
       "      <td>146.19</td>\n",
       "      <td>114.0480</td>\n",
       "      <td>52175</td>\n",
       "      <td>Card</td>\n",
       "    </tr>\n",
       "    <tr>\n",
       "      <th>359391</th>\n",
       "      <td>10440107</td>\n",
       "      <td>01/02/18</td>\n",
       "      <td>Yellow Cab</td>\n",
       "      <td>WASHINGTON DC</td>\n",
       "      <td>12.76</td>\n",
       "      <td>191.58</td>\n",
       "      <td>177.6192</td>\n",
       "      <td>52917</td>\n",
       "      <td>Card</td>\n",
       "    </tr>\n",
       "  </tbody>\n",
       "</table>\n",
       "<p>359392 rows × 9 columns</p>\n",
       "</div>"
      ],
      "text/plain": [
       "        Transaction ID Date of Travel     Company           City  \\\n",
       "0             10000011       01/08/16    Pink Cab     ATLANTA GA   \n",
       "1             10000012       01/06/16    Pink Cab     ATLANTA GA   \n",
       "2             10000013       01/02/16    Pink Cab     ATLANTA GA   \n",
       "3             10000014       01/07/16    Pink Cab     ATLANTA GA   \n",
       "4             10000015       01/03/16    Pink Cab     ATLANTA GA   \n",
       "...                ...            ...         ...            ...   \n",
       "359387        10440101       01/08/18  Yellow Cab  WASHINGTON DC   \n",
       "359388        10440104       01/04/18  Yellow Cab  WASHINGTON DC   \n",
       "359389        10440105       01/05/18  Yellow Cab  WASHINGTON DC   \n",
       "359390        10440106       01/05/18  Yellow Cab  WASHINGTON DC   \n",
       "359391        10440107       01/02/18  Yellow Cab  WASHINGTON DC   \n",
       "\n",
       "        KM Travelled  Price Charged  Cost of Trip  Customer ID Payment_Mode  \n",
       "0              30.45         370.95      313.6350        29290         Card  \n",
       "1              28.62         358.52      334.8540        27703         Card  \n",
       "2               9.04         125.20       97.6320        28712         Cash  \n",
       "3              33.17         377.40      351.6020        28020         Cash  \n",
       "4               8.73         114.62       97.7760        27182         Card  \n",
       "...              ...            ...           ...          ...          ...  \n",
       "359387          4.80          69.24       63.3600        52392         Cash  \n",
       "359388          8.40         113.75      106.8480        53286         Cash  \n",
       "359389         27.75         437.07      349.6500        52265         Cash  \n",
       "359390          8.80         146.19      114.0480        52175         Card  \n",
       "359391         12.76         191.58      177.6192        52917         Card  \n",
       "\n",
       "[359392 rows x 9 columns]"
      ]
     },
     "metadata": {},
     "output_type": "display_data"
    }
   ],
   "source": [
    "display(prototype_1)"
   ]
  },
  {
   "cell_type": "code",
   "execution_count": 71,
   "metadata": {},
   "outputs": [],
   "source": [
    " prototype_2 = prototype_1.merge(dataset_3, how='left', on='Customer ID', sort=True)"
   ]
  },
  {
   "cell_type": "code",
   "execution_count": 72,
   "metadata": {},
   "outputs": [
    {
     "data": {
      "text/html": [
       "<div>\n",
       "<style scoped>\n",
       "    .dataframe tbody tr th:only-of-type {\n",
       "        vertical-align: middle;\n",
       "    }\n",
       "\n",
       "    .dataframe tbody tr th {\n",
       "        vertical-align: top;\n",
       "    }\n",
       "\n",
       "    .dataframe thead th {\n",
       "        text-align: right;\n",
       "    }\n",
       "</style>\n",
       "<table border=\"1\" class=\"dataframe\">\n",
       "  <thead>\n",
       "    <tr style=\"text-align: right;\">\n",
       "      <th></th>\n",
       "      <th>Transaction ID</th>\n",
       "      <th>Date of Travel</th>\n",
       "      <th>Company</th>\n",
       "      <th>City</th>\n",
       "      <th>KM Travelled</th>\n",
       "      <th>Price Charged</th>\n",
       "      <th>Cost of Trip</th>\n",
       "      <th>Customer ID</th>\n",
       "      <th>Payment_Mode</th>\n",
       "      <th>Gender</th>\n",
       "      <th>Age</th>\n",
       "      <th>Income (USD/Month)</th>\n",
       "    </tr>\n",
       "  </thead>\n",
       "  <tbody>\n",
       "    <tr>\n",
       "      <th>0</th>\n",
       "      <td>10008434</td>\n",
       "      <td>02/06/16</td>\n",
       "      <td>Yellow Cab</td>\n",
       "      <td>NEW YORK NY</td>\n",
       "      <td>42.48</td>\n",
       "      <td>1422.30</td>\n",
       "      <td>576.0288</td>\n",
       "      <td>1</td>\n",
       "      <td>Cash</td>\n",
       "      <td>Male</td>\n",
       "      <td>36</td>\n",
       "      <td>16359</td>\n",
       "    </tr>\n",
       "    <tr>\n",
       "      <th>1</th>\n",
       "      <td>10012732</td>\n",
       "      <td>03/04/16</td>\n",
       "      <td>Pink Cab</td>\n",
       "      <td>NEW YORK NY</td>\n",
       "      <td>42.40</td>\n",
       "      <td>703.09</td>\n",
       "      <td>457.9200</td>\n",
       "      <td>1</td>\n",
       "      <td>Card</td>\n",
       "      <td>Male</td>\n",
       "      <td>36</td>\n",
       "      <td>16359</td>\n",
       "    </tr>\n",
       "    <tr>\n",
       "      <th>2</th>\n",
       "      <td>10053182</td>\n",
       "      <td>07/13/16</td>\n",
       "      <td>Yellow Cab</td>\n",
       "      <td>NEW YORK NY</td>\n",
       "      <td>8.12</td>\n",
       "      <td>233.10</td>\n",
       "      <td>100.3632</td>\n",
       "      <td>1</td>\n",
       "      <td>Card</td>\n",
       "      <td>Male</td>\n",
       "      <td>36</td>\n",
       "      <td>16359</td>\n",
       "    </tr>\n",
       "    <tr>\n",
       "      <th>3</th>\n",
       "      <td>10055394</td>\n",
       "      <td>07/24/16</td>\n",
       "      <td>Yellow Cab</td>\n",
       "      <td>NEW YORK NY</td>\n",
       "      <td>20.52</td>\n",
       "      <td>564.04</td>\n",
       "      <td>278.2512</td>\n",
       "      <td>1</td>\n",
       "      <td>Cash</td>\n",
       "      <td>Male</td>\n",
       "      <td>36</td>\n",
       "      <td>16359</td>\n",
       "    </tr>\n",
       "    <tr>\n",
       "      <th>4</th>\n",
       "      <td>10074090</td>\n",
       "      <td>09/03/16</td>\n",
       "      <td>Yellow Cab</td>\n",
       "      <td>NEW YORK NY</td>\n",
       "      <td>22.54</td>\n",
       "      <td>596.98</td>\n",
       "      <td>294.8232</td>\n",
       "      <td>1</td>\n",
       "      <td>Cash</td>\n",
       "      <td>Male</td>\n",
       "      <td>36</td>\n",
       "      <td>16359</td>\n",
       "    </tr>\n",
       "    <tr>\n",
       "      <th>...</th>\n",
       "      <td>...</td>\n",
       "      <td>...</td>\n",
       "      <td>...</td>\n",
       "      <td>...</td>\n",
       "      <td>...</td>\n",
       "      <td>...</td>\n",
       "      <td>...</td>\n",
       "      <td>...</td>\n",
       "      <td>...</td>\n",
       "      <td>...</td>\n",
       "      <td>...</td>\n",
       "      <td>...</td>\n",
       "    </tr>\n",
       "    <tr>\n",
       "      <th>359387</th>\n",
       "      <td>10393188</td>\n",
       "      <td>10/19/18</td>\n",
       "      <td>Yellow Cab</td>\n",
       "      <td>BOSTON MA</td>\n",
       "      <td>8.00</td>\n",
       "      <td>114.87</td>\n",
       "      <td>111.3600</td>\n",
       "      <td>60000</td>\n",
       "      <td>Cash</td>\n",
       "      <td>Female</td>\n",
       "      <td>27</td>\n",
       "      <td>20303</td>\n",
       "    </tr>\n",
       "    <tr>\n",
       "      <th>359388</th>\n",
       "      <td>10425458</td>\n",
       "      <td>12/15/18</td>\n",
       "      <td>Yellow Cab</td>\n",
       "      <td>BOSTON MA</td>\n",
       "      <td>10.40</td>\n",
       "      <td>141.24</td>\n",
       "      <td>124.8000</td>\n",
       "      <td>60000</td>\n",
       "      <td>Card</td>\n",
       "      <td>Female</td>\n",
       "      <td>27</td>\n",
       "      <td>20303</td>\n",
       "    </tr>\n",
       "    <tr>\n",
       "      <th>359389</th>\n",
       "      <td>10425480</td>\n",
       "      <td>12/11/18</td>\n",
       "      <td>Yellow Cab</td>\n",
       "      <td>BOSTON MA</td>\n",
       "      <td>9.70</td>\n",
       "      <td>127.62</td>\n",
       "      <td>132.6960</td>\n",
       "      <td>60000</td>\n",
       "      <td>Card</td>\n",
       "      <td>Female</td>\n",
       "      <td>27</td>\n",
       "      <td>20303</td>\n",
       "    </tr>\n",
       "    <tr>\n",
       "      <th>359390</th>\n",
       "      <td>10434169</td>\n",
       "      <td>12/28/18</td>\n",
       "      <td>Yellow Cab</td>\n",
       "      <td>BOSTON MA</td>\n",
       "      <td>35.64</td>\n",
       "      <td>603.94</td>\n",
       "      <td>487.5552</td>\n",
       "      <td>60000</td>\n",
       "      <td>Cash</td>\n",
       "      <td>Female</td>\n",
       "      <td>27</td>\n",
       "      <td>20303</td>\n",
       "    </tr>\n",
       "    <tr>\n",
       "      <th>359391</th>\n",
       "      <td>10436696</td>\n",
       "      <td>12/31/18</td>\n",
       "      <td>Pink Cab</td>\n",
       "      <td>BOSTON MA</td>\n",
       "      <td>27.55</td>\n",
       "      <td>377.85</td>\n",
       "      <td>330.6000</td>\n",
       "      <td>60000</td>\n",
       "      <td>Cash</td>\n",
       "      <td>Female</td>\n",
       "      <td>27</td>\n",
       "      <td>20303</td>\n",
       "    </tr>\n",
       "  </tbody>\n",
       "</table>\n",
       "<p>359392 rows × 12 columns</p>\n",
       "</div>"
      ],
      "text/plain": [
       "        Transaction ID Date of Travel     Company         City  KM Travelled  \\\n",
       "0             10008434       02/06/16  Yellow Cab  NEW YORK NY         42.48   \n",
       "1             10012732       03/04/16    Pink Cab  NEW YORK NY         42.40   \n",
       "2             10053182       07/13/16  Yellow Cab  NEW YORK NY          8.12   \n",
       "3             10055394       07/24/16  Yellow Cab  NEW YORK NY         20.52   \n",
       "4             10074090       09/03/16  Yellow Cab  NEW YORK NY         22.54   \n",
       "...                ...            ...         ...          ...           ...   \n",
       "359387        10393188       10/19/18  Yellow Cab    BOSTON MA          8.00   \n",
       "359388        10425458       12/15/18  Yellow Cab    BOSTON MA         10.40   \n",
       "359389        10425480       12/11/18  Yellow Cab    BOSTON MA          9.70   \n",
       "359390        10434169       12/28/18  Yellow Cab    BOSTON MA         35.64   \n",
       "359391        10436696       12/31/18    Pink Cab    BOSTON MA         27.55   \n",
       "\n",
       "        Price Charged  Cost of Trip  Customer ID Payment_Mode  Gender  Age  \\\n",
       "0             1422.30      576.0288            1         Cash    Male   36   \n",
       "1              703.09      457.9200            1         Card    Male   36   \n",
       "2              233.10      100.3632            1         Card    Male   36   \n",
       "3              564.04      278.2512            1         Cash    Male   36   \n",
       "4              596.98      294.8232            1         Cash    Male   36   \n",
       "...               ...           ...          ...          ...     ...  ...   \n",
       "359387         114.87      111.3600        60000         Cash  Female   27   \n",
       "359388         141.24      124.8000        60000         Card  Female   27   \n",
       "359389         127.62      132.6960        60000         Card  Female   27   \n",
       "359390         603.94      487.5552        60000         Cash  Female   27   \n",
       "359391         377.85      330.6000        60000         Cash  Female   27   \n",
       "\n",
       "        Income (USD/Month)  \n",
       "0                    16359  \n",
       "1                    16359  \n",
       "2                    16359  \n",
       "3                    16359  \n",
       "4                    16359  \n",
       "...                    ...  \n",
       "359387               20303  \n",
       "359388               20303  \n",
       "359389               20303  \n",
       "359390               20303  \n",
       "359391               20303  \n",
       "\n",
       "[359392 rows x 12 columns]"
      ]
     },
     "metadata": {},
     "output_type": "display_data"
    }
   ],
   "source": [
    "display(prototype_2)"
   ]
  },
  {
   "cell_type": "code",
   "execution_count": 73,
   "metadata": {},
   "outputs": [],
   "source": [
    "full = prototype_2.isnull().sum()"
   ]
  },
  {
   "cell_type": "code",
   "execution_count": 74,
   "metadata": {},
   "outputs": [
    {
     "data": {
      "text/plain": [
       "Transaction ID        0\n",
       "Date of Travel        0\n",
       "Company               0\n",
       "City                  0\n",
       "KM Travelled          0\n",
       "Price Charged         0\n",
       "Cost of Trip          0\n",
       "Customer ID           0\n",
       "Payment_Mode          0\n",
       "Gender                0\n",
       "Age                   0\n",
       "Income (USD/Month)    0\n",
       "dtype: int64"
      ]
     },
     "execution_count": 74,
     "metadata": {},
     "output_type": "execute_result"
    }
   ],
   "source": [
    "full"
   ]
  },
  {
   "cell_type": "markdown",
   "metadata": {},
   "source": [
    "# Figures"
   ]
  },
  {
   "cell_type": "code",
   "execution_count": 88,
   "metadata": {},
   "outputs": [
    {
     "data": {
      "text/plain": [
       "{'whiskers': [<matplotlib.lines.Line2D at 0x113d9de5e80>,\n",
       "  <matplotlib.lines.Line2D at 0x113d9de5100>],\n",
       " 'caps': [<matplotlib.lines.Line2D at 0x113d9de5760>,\n",
       "  <matplotlib.lines.Line2D at 0x113d46ca220>],\n",
       " 'boxes': [<matplotlib.lines.Line2D at 0x113d95f7ee0>],\n",
       " 'medians': [<matplotlib.lines.Line2D at 0x113d6d4f790>],\n",
       " 'fliers': [<matplotlib.lines.Line2D at 0x113d6d4fbe0>],\n",
       " 'means': []}"
      ]
     },
     "execution_count": 88,
     "metadata": {},
     "output_type": "execute_result"
    },
    {
     "data": {
      "image/png": "[encoded data removed]",
      "text/plain": [
       "<Figure size 432x288 with 1 Axes>"
      ]
     },
     "metadata": {
      "needs_background": "light"
     },
     "output_type": "display_data"
    }
   ],
   "source": [
    "import matplotlib as plt\n",
    "from matplotlib import pyplot\n",
    "%matplotlib inline\n",
    "\n",
    "pyplot.boxplot(prototype_2['Income (USD/Month)'])"
   ]
  },
  {
   "cell_type": "code",
   "execution_count": 76,
   "metadata": {},
   "outputs": [
    {
     "data": {
      "text/plain": [
       "<AxesSubplot:ylabel='Gender'>"
      ]
     },
     "execution_count": 76,
     "metadata": {},
     "output_type": "execute_result"
    },
    {
     "data": {
      "image/png": "[encoded data removed]",
      "text/plain": [
       "<Figure size 432x288 with 1 Axes>"
      ]
     },
     "metadata": {},
     "output_type": "display_data"
    }
   ],
   "source": [
    "import matplotlib.pyplot as plt\n",
    "gender_fig = prototype_2['Gender'].value_counts()\n",
    "gender_fig.plot.pie(autopct=\"%.1f%%\")"
   ]
  },
  {
   "cell_type": "code",
   "execution_count": 95,
   "metadata": {},
   "outputs": [
    {
     "data": {
      "text/plain": [
       "<AxesSubplot:ylabel='Payment_Mode'>"
      ]
     },
     "execution_count": 95,
     "metadata": {},
     "output_type": "execute_result"
    },
    {
     "data": {
      "image/png": "[encoded data removed]",
      "text/plain": [
       "<Figure size 432x288 with 1 Axes>"
      ]
     },
     "metadata": {},
     "output_type": "display_data"
    }
   ],
   "source": [
    "prototype_2[\"Payment_Mode\"].value_counts().plot.pie(autopct=\"%.1f%%\")"
   ]
  },
  {
   "cell_type": "code",
   "execution_count": 77,
   "metadata": {},
   "outputs": [
    {
     "data": {
      "text/plain": [
       "Yellow Cab    274681\n",
       "Pink Cab       84711\n",
       "Name: Company, dtype: int64"
      ]
     },
     "execution_count": 77,
     "metadata": {},
     "output_type": "execute_result"
    }
   ],
   "source": [
    "num_of_cust=prototype_2[\"Company\"].value_counts()\n",
    "num_of_cust"
   ]
  },
  {
   "cell_type": "code",
   "execution_count": 78,
   "metadata": {
    "scrolled": false
   },
   "outputs": [
    {
     "data": {
      "text/html": [
       "<div>\n",
       "<style scoped>\n",
       "    .dataframe tbody tr th:only-of-type {\n",
       "        vertical-align: middle;\n",
       "    }\n",
       "\n",
       "    .dataframe tbody tr th {\n",
       "        vertical-align: top;\n",
       "    }\n",
       "\n",
       "    .dataframe thead th {\n",
       "        text-align: right;\n",
       "    }\n",
       "</style>\n",
       "<table border=\"1\" class=\"dataframe\">\n",
       "  <thead>\n",
       "    <tr style=\"text-align: right;\">\n",
       "      <th></th>\n",
       "      <th>Transaction ID</th>\n",
       "      <th>Date of Travel</th>\n",
       "      <th>Company</th>\n",
       "      <th>City</th>\n",
       "      <th>KM Travelled</th>\n",
       "      <th>Price Charged</th>\n",
       "      <th>Cost of Trip</th>\n",
       "      <th>Customer ID</th>\n",
       "      <th>Payment_Mode</th>\n",
       "      <th>Gender</th>\n",
       "      <th>Age</th>\n",
       "      <th>Income (USD/Month)</th>\n",
       "      <th>Profit</th>\n",
       "    </tr>\n",
       "  </thead>\n",
       "  <tbody>\n",
       "    <tr>\n",
       "      <th>0</th>\n",
       "      <td>10008434</td>\n",
       "      <td>02/06/16</td>\n",
       "      <td>Yellow Cab</td>\n",
       "      <td>NEW YORK NY</td>\n",
       "      <td>42.48</td>\n",
       "      <td>1422.30</td>\n",
       "      <td>576.0288</td>\n",
       "      <td>1</td>\n",
       "      <td>Cash</td>\n",
       "      <td>Male</td>\n",
       "      <td>36</td>\n",
       "      <td>16359</td>\n",
       "      <td>846.2712</td>\n",
       "    </tr>\n",
       "    <tr>\n",
       "      <th>1</th>\n",
       "      <td>10012732</td>\n",
       "      <td>03/04/16</td>\n",
       "      <td>Pink Cab</td>\n",
       "      <td>NEW YORK NY</td>\n",
       "      <td>42.40</td>\n",
       "      <td>703.09</td>\n",
       "      <td>457.9200</td>\n",
       "      <td>1</td>\n",
       "      <td>Card</td>\n",
       "      <td>Male</td>\n",
       "      <td>36</td>\n",
       "      <td>16359</td>\n",
       "      <td>245.1700</td>\n",
       "    </tr>\n",
       "    <tr>\n",
       "      <th>2</th>\n",
       "      <td>10053182</td>\n",
       "      <td>07/13/16</td>\n",
       "      <td>Yellow Cab</td>\n",
       "      <td>NEW YORK NY</td>\n",
       "      <td>8.12</td>\n",
       "      <td>233.10</td>\n",
       "      <td>100.3632</td>\n",
       "      <td>1</td>\n",
       "      <td>Card</td>\n",
       "      <td>Male</td>\n",
       "      <td>36</td>\n",
       "      <td>16359</td>\n",
       "      <td>132.7368</td>\n",
       "    </tr>\n",
       "    <tr>\n",
       "      <th>3</th>\n",
       "      <td>10055394</td>\n",
       "      <td>07/24/16</td>\n",
       "      <td>Yellow Cab</td>\n",
       "      <td>NEW YORK NY</td>\n",
       "      <td>20.52</td>\n",
       "      <td>564.04</td>\n",
       "      <td>278.2512</td>\n",
       "      <td>1</td>\n",
       "      <td>Cash</td>\n",
       "      <td>Male</td>\n",
       "      <td>36</td>\n",
       "      <td>16359</td>\n",
       "      <td>285.7888</td>\n",
       "    </tr>\n",
       "    <tr>\n",
       "      <th>4</th>\n",
       "      <td>10074090</td>\n",
       "      <td>09/03/16</td>\n",
       "      <td>Yellow Cab</td>\n",
       "      <td>NEW YORK NY</td>\n",
       "      <td>22.54</td>\n",
       "      <td>596.98</td>\n",
       "      <td>294.8232</td>\n",
       "      <td>1</td>\n",
       "      <td>Cash</td>\n",
       "      <td>Male</td>\n",
       "      <td>36</td>\n",
       "      <td>16359</td>\n",
       "      <td>302.1568</td>\n",
       "    </tr>\n",
       "    <tr>\n",
       "      <th>...</th>\n",
       "      <td>...</td>\n",
       "      <td>...</td>\n",
       "      <td>...</td>\n",
       "      <td>...</td>\n",
       "      <td>...</td>\n",
       "      <td>...</td>\n",
       "      <td>...</td>\n",
       "      <td>...</td>\n",
       "      <td>...</td>\n",
       "      <td>...</td>\n",
       "      <td>...</td>\n",
       "      <td>...</td>\n",
       "      <td>...</td>\n",
       "    </tr>\n",
       "    <tr>\n",
       "      <th>359387</th>\n",
       "      <td>10393188</td>\n",
       "      <td>10/19/18</td>\n",
       "      <td>Yellow Cab</td>\n",
       "      <td>BOSTON MA</td>\n",
       "      <td>8.00</td>\n",
       "      <td>114.87</td>\n",
       "      <td>111.3600</td>\n",
       "      <td>60000</td>\n",
       "      <td>Cash</td>\n",
       "      <td>Female</td>\n",
       "      <td>27</td>\n",
       "      <td>20303</td>\n",
       "      <td>3.5100</td>\n",
       "    </tr>\n",
       "    <tr>\n",
       "      <th>359388</th>\n",
       "      <td>10425458</td>\n",
       "      <td>12/15/18</td>\n",
       "      <td>Yellow Cab</td>\n",
       "      <td>BOSTON MA</td>\n",
       "      <td>10.40</td>\n",
       "      <td>141.24</td>\n",
       "      <td>124.8000</td>\n",
       "      <td>60000</td>\n",
       "      <td>Card</td>\n",
       "      <td>Female</td>\n",
       "      <td>27</td>\n",
       "      <td>20303</td>\n",
       "      <td>16.4400</td>\n",
       "    </tr>\n",
       "    <tr>\n",
       "      <th>359389</th>\n",
       "      <td>10425480</td>\n",
       "      <td>12/11/18</td>\n",
       "      <td>Yellow Cab</td>\n",
       "      <td>BOSTON MA</td>\n",
       "      <td>9.70</td>\n",
       "      <td>127.62</td>\n",
       "      <td>132.6960</td>\n",
       "      <td>60000</td>\n",
       "      <td>Card</td>\n",
       "      <td>Female</td>\n",
       "      <td>27</td>\n",
       "      <td>20303</td>\n",
       "      <td>-5.0760</td>\n",
       "    </tr>\n",
       "    <tr>\n",
       "      <th>359390</th>\n",
       "      <td>10434169</td>\n",
       "      <td>12/28/18</td>\n",
       "      <td>Yellow Cab</td>\n",
       "      <td>BOSTON MA</td>\n",
       "      <td>35.64</td>\n",
       "      <td>603.94</td>\n",
       "      <td>487.5552</td>\n",
       "      <td>60000</td>\n",
       "      <td>Cash</td>\n",
       "      <td>Female</td>\n",
       "      <td>27</td>\n",
       "      <td>20303</td>\n",
       "      <td>116.3848</td>\n",
       "    </tr>\n",
       "    <tr>\n",
       "      <th>359391</th>\n",
       "      <td>10436696</td>\n",
       "      <td>12/31/18</td>\n",
       "      <td>Pink Cab</td>\n",
       "      <td>BOSTON MA</td>\n",
       "      <td>27.55</td>\n",
       "      <td>377.85</td>\n",
       "      <td>330.6000</td>\n",
       "      <td>60000</td>\n",
       "      <td>Cash</td>\n",
       "      <td>Female</td>\n",
       "      <td>27</td>\n",
       "      <td>20303</td>\n",
       "      <td>47.2500</td>\n",
       "    </tr>\n",
       "  </tbody>\n",
       "</table>\n",
       "<p>359392 rows × 13 columns</p>\n",
       "</div>"
      ],
      "text/plain": [
       "        Transaction ID Date of Travel     Company         City  KM Travelled  \\\n",
       "0             10008434       02/06/16  Yellow Cab  NEW YORK NY         42.48   \n",
       "1             10012732       03/04/16    Pink Cab  NEW YORK NY         42.40   \n",
       "2             10053182       07/13/16  Yellow Cab  NEW YORK NY          8.12   \n",
       "3             10055394       07/24/16  Yellow Cab  NEW YORK NY         20.52   \n",
       "4             10074090       09/03/16  Yellow Cab  NEW YORK NY         22.54   \n",
       "...                ...            ...         ...          ...           ...   \n",
       "359387        10393188       10/19/18  Yellow Cab    BOSTON MA          8.00   \n",
       "359388        10425458       12/15/18  Yellow Cab    BOSTON MA         10.40   \n",
       "359389        10425480       12/11/18  Yellow Cab    BOSTON MA          9.70   \n",
       "359390        10434169       12/28/18  Yellow Cab    BOSTON MA         35.64   \n",
       "359391        10436696       12/31/18    Pink Cab    BOSTON MA         27.55   \n",
       "\n",
       "        Price Charged  Cost of Trip  Customer ID Payment_Mode  Gender  Age  \\\n",
       "0             1422.30      576.0288            1         Cash    Male   36   \n",
       "1              703.09      457.9200            1         Card    Male   36   \n",
       "2              233.10      100.3632            1         Card    Male   36   \n",
       "3              564.04      278.2512            1         Cash    Male   36   \n",
       "4              596.98      294.8232            1         Cash    Male   36   \n",
       "...               ...           ...          ...          ...     ...  ...   \n",
       "359387         114.87      111.3600        60000         Cash  Female   27   \n",
       "359388         141.24      124.8000        60000         Card  Female   27   \n",
       "359389         127.62      132.6960        60000         Card  Female   27   \n",
       "359390         603.94      487.5552        60000         Cash  Female   27   \n",
       "359391         377.85      330.6000        60000         Cash  Female   27   \n",
       "\n",
       "        Income (USD/Month)    Profit  \n",
       "0                    16359  846.2712  \n",
       "1                    16359  245.1700  \n",
       "2                    16359  132.7368  \n",
       "3                    16359  285.7888  \n",
       "4                    16359  302.1568  \n",
       "...                    ...       ...  \n",
       "359387               20303    3.5100  \n",
       "359388               20303   16.4400  \n",
       "359389               20303   -5.0760  \n",
       "359390               20303  116.3848  \n",
       "359391               20303   47.2500  \n",
       "\n",
       "[359392 rows x 13 columns]"
      ]
     },
     "execution_count": 78,
     "metadata": {},
     "output_type": "execute_result"
    }
   ],
   "source": [
    "prototype_2['Profit'] = prototype_2['Price Charged'] - prototype_2['Cost of Trip']\n",
    "prototype_2"
   ]
  },
  {
   "cell_type": "code",
   "execution_count": 43,
   "metadata": {},
   "outputs": [],
   "source": [
    "years = prototype_2\n",
    "for x, y in years.iterrows():\n",
    "        \n",
    "    if y['Date of Travel'][4:] == \"16\":\n",
    "        years[\"Date of Travel\"][x] = '2016'        \n",
    "        \n",
    "    if y['Date of Travel'][4:] == \"17\":\n",
    "        years[\"Date of Travel\"][x] = '2017'  \n",
    "        \n",
    "    if y['Date of Travel'][4:] == \"18\":\n",
    "        years[\"Date of Travel\"][x] = '2018'   "
   ]
  },
  {
   "cell_type": "code",
   "execution_count": 46,
   "metadata": {},
   "outputs": [
    {
     "name": "stderr",
     "output_type": "stream",
     "text": [
      "C:\\Users\\Muhammed Shehab\\anaconda3\\lib\\site-packages\\seaborn\\axisgrid.py:2015: UserWarning: The `size` parameter has been renamed to `height`; please update your code.\n",
      "  warnings.warn(msg, UserWarning)\n"
     ]
    },
    {
     "data": {
      "text/plain": [
       "<seaborn.axisgrid.JointGrid at 0x113e2426880>"
      ]
     },
     "execution_count": 46,
     "metadata": {},
     "output_type": "execute_result"
    },
    {
     "data": {
      "image/png": "[encoded data removed]",
      "text/plain": [
       "<Figure size 360x360 with 3 Axes>"
      ]
     },
     "metadata": {
      "needs_background": "light"
     },
     "output_type": "display_data"
    }
   ],
   "source": [
    "sns.jointplot(x=\"Profit\", y=\"Company\", data=prototype_2, size=5)"
   ]
  },
  {
   "cell_type": "code",
   "execution_count": 47,
   "metadata": {},
   "outputs": [
    {
     "data": {
      "image/png": "[encoded data removed]",
      "text/plain": [
       "<Figure size 432x288 with 1 Axes>"
      ]
     },
     "metadata": {
      "needs_background": "light"
     },
     "output_type": "display_data"
    }
   ],
   "source": [
    "ax = sns.boxplot(x=\"Profit\", y=\"Company\", data=prototype_2)\n",
    "ax = sns.stripplot(x=\"Profit\", y=\"Company\", data=prototype_2, jitter=True, edgecolor=\"gray\")"
   ]
  },
  {
   "cell_type": "code",
   "execution_count": 97,
   "metadata": {},
   "outputs": [
    {
     "data": {
      "text/plain": [
       "Text(0, 0.5, 'KM')"
      ]
     },
     "execution_count": 97,
     "metadata": {},
     "output_type": "execute_result"
    },
    {
     "data": {
      "image/png": "[encoded data removed]",
      "text/plain": [
       "<Figure size 432x288 with 1 Axes>"
      ]
     },
     "metadata": {
      "needs_background": "light"
     },
     "output_type": "display_data"
    }
   ],
   "source": [
    "%matplotlib inline\n",
    "\n",
    "company = (\"Yellow Cap\" , \"Pink Cap\")\n",
    "pyplot.bar(company, prototype_2.groupby(['Company'])[\"KM Travelled\"].sum())\n",
    "\n",
    "# set x/y labels and plot title\n",
    "plt.pyplot.xlabel(\"companies\")\n",
    "plt.pyplot.ylabel(\"KM\")"
   ]
  }
 ],
 "metadata": {
  "kernelspec": {
   "display_name": "Python 3",
   "language": "python",
   "name": "python3"
  },
  "language_info": {
   "codemirror_mode": {
    "name": "ipython",
    "version": 3
   },
   "file_extension": ".py",
   "mimetype": "text/x-python",
   "name": "python",
   "nbconvert_exporter": "python",
   "pygments_lexer": "ipython3",
   "version": "3.8.5"
  }
 },
 "nbformat": 4,
 "nbformat_minor": 4
}
